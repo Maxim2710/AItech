{
 "cells": [
  {
   "metadata": {},
   "cell_type": "markdown",
   "source": [
    "## Задание 5.\n",
    "Просчитать одну итерацию цикла обучения по дельта-правилу однослойной бинарной неоднородной нейронной сети, состоящей из двух нейронов и имеющей функции активации: гиперболический тангенс (a = 2) и пороговую функцию (Θ = 0,5). В качестве обучающей выборки использовать таблицу истинности для операций эквивалентности и конъюнкции (не использовать первую строчку таблицы). Синаптические веса задать случайным образом."
   ],
   "id": "b7659ad13a71dd29"
  },
  {
   "metadata": {},
   "cell_type": "markdown",
   "source": [
    "\n",
    "### 1. Исходные данные:\n",
    "- Входы: \\( X_1 \\), \\( X_2 \\)\n",
    "- Выходы: \\( Y_1 \\), \\( Y_2 \\)\n",
    "- \\( Y_1 \\) – активационная функция: **гиперболический тангенс \\( f1 = \\tanh(2S) \\)**\n",
    "- \\( Y_2 \\) – активационная функция: **пороговая \\( f2 \\) с \\( Θ = 0.5 \\)**\n",
    "\n",
    "\n",
    "\n",
    "\n",
    "![](../../AItech/img/mermaid-diagram-2024-12-14-221536.png)\n",
    "\n",
    "\n",
    "\n",
    "\n",
    "\n",
    "\n",
    "\n",
    "\n",
    "Обучающая выборка:\n",
    "\n",
    "| \\( X_1 \\) | \\( X_2 \\) | \\( V1 \\) | \\( V2 \\) |\n",
    "|-----------|-----------|---------|---------|\n",
    "| 0         | 1         | 0       | 0       |\n",
    "| 1         | 0         | 0       | 0       |\n",
    "| 1         | 1         | 1       | 1       |\n",
    "\n",
    "Строка для обучения: **2-я строка таблицы: \\( X = \\{ 1, 0 \\} \\), \\( D = \\{ 0, 0 \\} \\).**\n",
    "\n",
    "### 2. Шаг 1. Зададим матрицу весов случайным образом из интервала [0,1]:\n",
    "\n",
    "$$\n",
    "w_{ij}(1) = \n",
    "\\begin{bmatrix}\n",
    "1 & 2 \\\\\n",
    "0.6 & 0.3 \\\\\n",
    "0.4 & 0.7\n",
    "\\end{bmatrix}\n",
    "$$\n",
    "\n",
    "### 3. Шаг 2. Вектор \\( X \\) и \\( D \\):\n",
    "- Вектор входов: \\( X = \\{ 1, 0 \\} \\)\n",
    "- Вектор желаемых выходов: \\( D = \\{ 0, 0 \\} \\)\n",
    "\n",
    "### 4. Шаг 3. Вычисление выходов нейросети \\( Y \\):\n",
    "\n",
    "#### 4.1 Вычислим для нейрона \\( Y_1 \\) (гиперболический тангенс \\( a = 2 \\)):\n",
    "\n",
    "$$\n",
    "S_1 = X_1 w_{11} + X_2 w_{21} = 1 \\cdot 0.6 + 0 \\cdot 0.4 = 0.6\n",
    "$$\n",
    "\n",
    "$$\n",
    "Y_1 = \\tanh(2 S_1) = \\tanh(2 \\cdot 0.6) = \\tanh(1.2) \\approx 0.8337\n",
    "$$\n",
    "\n",
    "#### 4.2 Вычислим для нейрона \\( Y_2 \\) (пороговая функция \\( Θ = 0.5 \\)):\n",
    "\n",
    "$$\n",
    "S_2 = X_1 w_{12} + X_2 w_{22} = 1 \\cdot 0.3 + 0 \\cdot 0.7 = 0.3\n",
    "$$\n",
    "\n",
    "$$\n",
    "Y_2 =\n",
    "\\begin{cases}\n",
    "1, \\text{ если } S_2 \\geq Θ \\\\\n",
    "0, \\text{ если } S_2 < Θ\n",
    "\\end{cases}\n",
    "=\n",
    "\\begin{cases}\n",
    "1, \\text{ если } 0.3 \\geq 0.5 \\\\\n",
    "0, \\text{ если } 0.3 < 0.5\n",
    "\\end{cases} = 0\n",
    "$$\n",
    "\n",
    "### 5. Шаг 4. Вычисление величины расхождения реального результата с желаемым:\n",
    "\n",
    "$$\n",
    "\\varepsilon_1 = (d_1 - y_1) = (0 - 0.8337) = -0.8337\n",
    "$$\n",
    "$$\n",
    "\\varepsilon_2 = (d_2 - y_2) = (0 - 0) = 0\n",
    "$$\n",
    "\n",
    "### 6. Шаг 5. Среднеквадратичная ошибка:\n",
    "\n",
    "$$\n",
    "\\varepsilon = \\sum_{i=1}^2 (\\varepsilon_i)^2 = (-0.8337)^2 + (0)^2 = 0.6951\n",
    "$$\n",
    "\n",
    "### 7. Шаг 6. Изменение весов по Δ-правилу:\n",
    "\n",
    "Зададим коэффициент обучения \\( \\eta = 0.5 \\).\n",
    "\n",
    "#### Обновление весов для нейрона \\( Y_1 \\):\n",
    "\n",
    "$$\n",
    "w_{11}(2) = w_{11}(1) + \\eta \\cdot \\varepsilon_1 \\cdot X_1 = 0.6 + 0.5 \\cdot (-0.8337) \\cdot 1 = 0.18315\n",
    "$$\n",
    "\n",
    "$$\n",
    "w_{21}(2) = w_{21}(1) + \\eta \\cdot \\varepsilon_1 \\cdot X_2 = 0.4 + 0.5 \\cdot (-0.8337) \\cdot 0 = 0.4\n",
    "$$\n",
    "\n",
    "#### Обновление весов для нейрона \\( Y_2 \\):\n",
    "\n",
    "$$\n",
    "w_{12}(2) = w_{12}(1) + \\eta \\cdot \\varepsilon_2 \\cdot X_1 = 0.3 + 0.5 \\cdot 0 \\cdot 1 = 0.3\n",
    "$$\n",
    "\n",
    "$$\n",
    "w_{22}(2) = w_{22}(1) + \\eta \\cdot \\varepsilon_2 \\cdot X_2 = 0.7 + 0.5 \\cdot 0 \\cdot 0 = 0.7\n",
    "$$\n",
    "\n",
    "### 8. Новая матрица весов:\n",
    "\n",
    "$$\n",
    "w_{ij}(2) = \n",
    "\\begin{bmatrix}\n",
    "1 & 2 \\\\\n",
    "0.18315 & 0.3 \\\\\n",
    "0.4 & 0.7\n",
    "\\end{bmatrix}\n",
    "$$\n",
    "\n",
    "### 9. Повторное вычисление выходов:\n",
    "\n",
    "#### Для \\( Y_1 \\) (гиперболический тангенс):\n",
    "\n",
    "$$\n",
    "S_1(2) = X_1 w_{11}(2) + X_2 w_{21}(2) = 1 \\cdot 0.18315 + 0 \\cdot 0.4 = 0.18315\n",
    "$$\n",
    "\n",
    "$$\n",
    "Y_1(2) = \\tanh(2 S_1(2)) = \\tanh(2 \\cdot 0.18315) \\approx \\tanh(0.3663) \\approx 0.3508\n",
    "$$\n",
    "\n",
    "#### Для \\( Y_2 \\) (пороговая функция):\n",
    "\n",
    "$$\n",
    "S_2(2) = X_1 w_{12}(2) + X_2 w_{22}(2) = 1 \\cdot 0.3 + 0 \\cdot 0.7 = 0.3\n",
    "$$\n",
    "\n",
    "$$\n",
    "Y_2(2) =\n",
    "\\begin{cases}\n",
    "1, \\text{ если } S_2(2) \\geq Θ \\\\\n",
    "0, \\text{ если } S_2(2) < Θ\n",
    "\\end{cases}\n",
    "= 0\n",
    "$$\n",
    "\n",
    "### 10. Новые ошибки:\n",
    "\n",
    "$$\n",
    "\\varepsilon_1(2) = (d_1 - y_1(2)) = (0 - 0.3508) = -0.3508\n",
    "$$\n",
    "$$\n",
    "\\varepsilon_2(2) = (d_2 - y_2(2)) = (0 - 0) = 0\n",
    "$$\n",
    "\n",
    "### Среднеквадратичная ошибка:\n",
    "\n",
    "$$\n",
    "\\varepsilon_2 = \\sum_{i=1}^2 (\\varepsilon_i(2))^2 = (-0.3508)^2 + (0)^2 = 0.12306\n",
    "$$\n",
    "\n",
    "### 11. Сравнение ошибок:\n",
    "\n",
    "$$\n",
    "\\varepsilon_1 > \\varepsilon_2, \\quad 0.6951 > 0.12306\n",
    "$$\n",
    "\n",
    "**Вывод:** Среднеквадратичная ошибка уменьшилась, значит, нейросеть обучаема."
   ],
   "id": "65d97811604d194a"
  },
  {
   "cell_type": "code",
   "id": "initial_id",
   "metadata": {
    "collapsed": true,
    "ExecuteTime": {
     "end_time": "2024-12-14T19:17:11.434041Z",
     "start_time": "2024-12-14T19:17:11.430573Z"
    }
   },
   "source": [
    "# Импорт библиотек и определение функций\n",
    "import numpy as np\n",
    "import math\n",
    "import matplotlib.pyplot as plt\n",
    "\n",
    "# Активационные функции\n",
    "def tanh_activation(a, s):\n",
    "    return math.tanh(a * s)\n",
    "\n",
    "def threshold_activation(s, theta=0.5):\n",
    "    return 1 if s >= theta else 0\n",
    "\n",
    "# Функция для вычисления взвешенной суммы\n",
    "def weighted_sum(weights, inputs):\n",
    "    return np.dot(weights, inputs)\n",
    "\n",
    "# Функция для вычисления выходов нейронов\n",
    "def compute_outputs(weights, inputs):\n",
    "    s1 = weighted_sum(weights[0], inputs)\n",
    "    s2 = weighted_sum(weights[1], inputs)\n",
    "\n",
    "    y1 = tanh_activation(a_tanh, s1)  # Гиперболический тангенс\n",
    "    y2 = threshold_activation(s2, theta_threshold)  # Пороговая функция\n",
    "\n",
    "    return y1, y2, s1, s2"
   ],
   "outputs": [],
   "execution_count": 37
  },
  {
   "metadata": {
    "ExecuteTime": {
     "end_time": "2024-12-14T19:17:11.449089Z",
     "start_time": "2024-12-14T19:17:11.446332Z"
    }
   },
   "cell_type": "code",
   "source": [
    "# Инициализация данных\n",
    "inputs = np.array([1, 0])  # Входы X = {1, 0}\n",
    "desired_outputs = np.array([0, 0])  # Желательные выходы D = {0, 0}\n",
    "\n",
    "# Случайные начальные веса\n",
    "weights = np.array([\n",
    "    [0.6, 0.4],  # W1 для нейрона Y1\n",
    "    [0.3, 0.7]   # W2 для нейрона Y2\n",
    "])\n",
    "\n",
    "# Параметры нейронной сети\n",
    "learning_rate = 0.5  # Коэффициент обучения\n",
    "a_tanh = 2  # Параметр для гиперболического тангенса\n",
    "theta_threshold = 0.5  # Порог для пороговой функции"
   ],
   "id": "a3e5cf2d9eb7a29",
   "outputs": [],
   "execution_count": 38
  },
  {
   "metadata": {
    "ExecuteTime": {
     "end_time": "2024-12-14T19:17:11.608090Z",
     "start_time": "2024-12-14T19:17:11.455504Z"
    }
   },
   "cell_type": "code",
   "source": [
    "# Вычисление начальных значений\n",
    "y1, y2, s1, s2 = compute_outputs(weights, inputs)\n",
    "error1 = desired_outputs[0] - y1\n",
    "error2 = desired_outputs[1] - y2\n",
    "mse = error1**2 + error2**2\n",
    "\n",
    "# Вывод начальных данных\n",
    "print(\"Начальные выходы и ошибки:\")\n",
    "print(f\"Y1 = {y1:.4f} (S1 = {s1:.4f}), Y2 = {y2} (S2 = {s2:.4f})\")\n",
    "print(f\"Ошибка \\u03B51 = {error1:.4f}, Ошибка \\u03B52 = {error2:.4f}\")\n",
    "print(f\"Среднеквадратичная ошибка = {mse:.6f}\\n\")\n",
    "\n",
    "# Визуализация начальных значений\n",
    "fig, ax = plt.subplots(1, 2, figsize=(12, 4))\n",
    "ax[0].bar(['Y1', 'Y2'], [y1, y2], color=['blue', 'orange'])\n",
    "ax[0].set_title('Начальные выходы нейронов')\n",
    "ax[0].set_ylim([-1.5, 1.5])\n",
    "ax[0].grid(True)\n",
    "\n",
    "ax[1].bar(['Error1', 'Error2'], [error1, error2], color=['red', 'green'])\n",
    "ax[1].set_title('Начальные ошибки')\n",
    "ax[1].set_ylim([-1, 1])\n",
    "ax[1].grid(True)\n",
    "plt.show()"
   ],
   "id": "47e2440f87b9d9dc",
   "outputs": [
    {
     "name": "stdout",
     "output_type": "stream",
     "text": [
      "Начальные выходы и ошибки:\n",
      "Y1 = 0.8337 (S1 = 0.6000), Y2 = 0 (S2 = 0.3000)\n",
      "Ошибка ε1 = -0.8337, Ошибка ε2 = 0.0000\n",
      "Среднеквадратичная ошибка = 0.694980\n",
      "\n"
     ]
    },
    {
     "data": {
      "text/plain": [
       "<Figure size 1200x400 with 2 Axes>"
      ],
      "image/png": "[encoded data removed]"
     },
     "metadata": {},
     "output_type": "display_data"
    }
   ],
   "execution_count": 39
  },
  {
   "metadata": {},
   "cell_type": "markdown",
   "source": [
    "1. Начальные выходы нейронов (слева):\n",
    "- Нейрон Y1 имеет выход примерно равный 0.8, тогда как выход нейрона Y2 равен 0.\n",
    "- Это указывает на то, что на начальном этапе нейрон Y1 выдаёт ненулевое значение, а нейрон Y2 не активируется.\n",
    "\n",
    "2. Начальные ошибки (справа):\n",
    "- Ошибка Error1 составляет примерно -0.8, а ошибка Error2 равна 0.\n",
    "- Это означает, что для Error1 существует значительное отклонение от желаемого значения, а Error2 не имеет ошибки на старте."
   ],
   "id": "cd1d638f353ea3b8"
  },
  {
   "metadata": {
    "ExecuteTime": {
     "end_time": "2024-12-14T19:17:11.790080Z",
     "start_time": "2024-12-14T19:17:11.659320Z"
    }
   },
   "cell_type": "code",
   "source": [
    "# Обновление весов\n",
    "new_weights = np.copy(weights)\n",
    "new_weights[0, 0] += learning_rate * error1 * inputs[0]\n",
    "new_weights[0, 1] += learning_rate * error1 * inputs[1]\n",
    "new_weights[1, 0] += learning_rate * error2 * inputs[0]\n",
    "new_weights[1, 1] += learning_rate * error2 * inputs[1]\n",
    "\n",
    "# Повторный расчет с обновленными весами\n",
    "y1_new, y2_new, s1_new, s2_new = compute_outputs(new_weights, inputs)\n",
    "error1_new = desired_outputs[0] - y1_new\n",
    "error2_new = desired_outputs[1] - y2_new\n",
    "mse_new = error1_new**2 + error2_new**2\n",
    "\n",
    "# Вывод обновленных данных\n",
    "print(\"Обновленные выходы и ошибки:\")\n",
    "print(f\"Y1 = {y1_new:.4f} (S1 = {s1_new:.4f}), Y2 = {y2_new} (S2 = {s2_new:.4f})\")\n",
    "print(f\"Ошибка \\u03B51 = {error1_new:.4f}, Ошибка \\u03B52 = {error2_new:.4f}\")\n",
    "print(f\"Среднеквадратичная ошибка = {mse_new:.6f}\\n\")\n",
    "\n",
    "# Визуализация обновленных значений\n",
    "fig, ax = plt.subplots(1, 2, figsize=(12, 4))\n",
    "ax[0].bar(['Y1', 'Y2'], [y1_new, y2_new], color=['blue', 'orange'])\n",
    "ax[0].set_title('Обновленные выходы нейронов')\n",
    "ax[0].set_ylim([-1.5, 1.5])\n",
    "ax[0].grid(True)\n",
    "\n",
    "ax[1].bar(['Error1', 'Error2'], [error1_new, error2_new], color=['red', 'green'])\n",
    "ax[1].set_title('Обновленные ошибки')\n",
    "ax[1].set_ylim([-1, 1])\n",
    "ax[1].grid(True)\n",
    "plt.show()"
   ],
   "id": "408c917dce7ff52b",
   "outputs": [
    {
     "name": "stdout",
     "output_type": "stream",
     "text": [
      "Обновленные выходы и ошибки:\n",
      "Y1 = 0.3508 (S1 = 0.1832), Y2 = 0 (S2 = 0.3000)\n",
      "Ошибка ε1 = -0.3508, Ошибка ε2 = 0.0000\n",
      "Среднеквадратичная ошибка = 0.123054\n",
      "\n"
     ]
    },
    {
     "data": {
      "text/plain": [
       "<Figure size 1200x400 with 2 Axes>"
      ],
      "image/png": "[encoded data removed]"
     },
     "metadata": {},
     "output_type": "display_data"
    }
   ],
   "execution_count": 40
  },
  {
   "metadata": {},
   "cell_type": "markdown",
   "source": [
    "1. Обновлённые выходы нейронов (слева):\n",
    "- Выход нейрона Y1 уменьшился до около 0.3, а нейрон Y2 по-прежнему имеет нулевой выход.\n",
    "- Это свидетельствует о том, что после обновления параметров значение Y1 стало ближе к желаемому (т.е. произошло улучшение).\n",
    "\n",
    "2. Обновлённые ошибки (справа):\n",
    "- Ошибка Error1 уменьшилась и составляет примерно -0.3, а ошибка Error2 остаётся 0.\n",
    "- Это указывает на снижение ошибки Error1 после обновления (т.е. сеть скорректировала своё поведение)."
   ],
   "id": "d5a4cbbea83dd04d"
  },
  {
   "metadata": {
    "ExecuteTime": {
     "end_time": "2024-12-14T19:17:11.833830Z",
     "start_time": "2024-12-14T19:17:11.826741Z"
    }
   },
   "cell_type": "code",
   "source": [
    "# Сравнение ошибок\n",
    "print(\"Сравнение среднеквадратичных ошибок:\")\n",
    "print(f\"Старая ошибка = {mse:.6f}, Новая ошибка = {mse_new:.6f}\")\n",
    "if mse_new < mse:\n",
    "    print(\"Среднеквадратичная ошибка уменьшилась, нейросеть обучаема.\")\n",
    "else:\n",
    "    print(\"Ошибка не уменьшилась, требуется дополнительное обучение.\")"
   ],
   "id": "d878395c1be63c40",
   "outputs": [
    {
     "name": "stdout",
     "output_type": "stream",
     "text": [
      "Сравнение среднеквадратичных ошибок:\n",
      "Старая ошибка = 0.694980, Новая ошибка = 0.123054\n",
      "Среднеквадратичная ошибка уменьшилась, нейросеть обучаема.\n"
     ]
    }
   ],
   "execution_count": 41
  }
 ],
 "metadata": {
  "kernelspec": {
   "display_name": "Python 3",
   "language": "python",
   "name": "python3"
  },
  "language_info": {
   "codemirror_mode": {
    "name": "ipython",
    "version": 2
   },
   "file_extension": ".py",
   "mimetype": "text/x-python",
   "name": "python",
   "nbconvert_exporter": "python",
   "pygments_lexer": "ipython2",
   "version": "2.7.6"
  }
 },
 "nbformat": 4,
 "nbformat_minor": 5
}
